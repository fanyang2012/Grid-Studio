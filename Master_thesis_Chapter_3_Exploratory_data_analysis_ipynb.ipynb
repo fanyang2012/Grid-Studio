{
  "nbformat": 4,
  "nbformat_minor": 0,
  "metadata": {
    "colab": {
      "name": "Master thesis - Chapter 3: Exploratory data analysis.ipynb.ipynb",
      "provenance": [],
      "collapsed_sections": [],
      "authorship_tag": "ABX9TyO4/UEPMJcUTgaUvW22ekD5",
      "include_colab_link": true
    },
    "kernelspec": {
      "name": "python3",
      "display_name": "Python 3"
    },
    "language_info": {
      "name": "python"
    }
  },
  "cells": [
    {
      "cell_type": "markdown",
      "metadata": {
        "id": "view-in-github",
        "colab_type": "text"
      },
      "source": [
        "<a href=\"https://colab.research.google.com/github/fanyang2012/Grid-Studio/blob/master/Master_thesis_Chapter_3_Exploratory_data_analysis_ipynb.ipynb\" target=\"_parent\"><img src=\"https://colab.research.google.com/assets/colab-badge.svg\" alt=\"Open In Colab\"/></a>"
      ]
    },
    {
      "cell_type": "markdown",
      "metadata": {
        "id": "v_O0t5j7VGZU"
      },
      "source": [
        "# 1. Data understanding"
      ]
    },
    {
      "cell_type": "markdown",
      "metadata": {
        "id": "N5mXAIu-SKbL"
      },
      "source": [
        "## 1.1 Import dataset 'movedata' for five years"
      ]
    },
    {
      "cell_type": "code",
      "metadata": {
        "id": "WLhE1lI0RrqX"
      },
      "source": [
        "import numpy as np\n",
        "import ray\n",
        "import os\n",
        "import datetime as dt\n",
        "ray.init(num_cpus=20, ignore_reinit_error=True) \n",
        "os.environ[\"MODIN_ENGINE\"] = \"ray\"\n",
        "import modin.pandas as pd"
      ],
      "execution_count": null,
      "outputs": []
    },
    {
      "cell_type": "code",
      "metadata": {
        "id": "hT_VRe01Tfy_"
      },
      "source": [
        "movedata_path = \"/media/fs/ML_Projects/technilog/exports/AIM_TNL_003_001/bewegungsdaten/bewegungen_historic_export_new_format.csv\"\n",
        "movedata_header = pd.read_csv(movedata_path, sep=';', nrows=1)\n",
        "movedata1 = pd.read_csv(movedata_path, sep=';', header=None, skiprows=12175634, nrows=8018141)\n",
        "movedata2 = pd.read_csv(movedata_path, sep=\";\", header=None, skiprows=20193775, nrows=13447308)\n",
        "movedata = movedata1.append(movedata2)\n",
        "movedata.columns = movedata_header.columns"
      ],
      "execution_count": null,
      "outputs": []
    },
    {
      "cell_type": "markdown",
      "metadata": {
        "id": "r_5wOkDKUM8P"
      },
      "source": [
        "## 1.2 First glance at dataset"
      ]
    },
    {
      "cell_type": "code",
      "metadata": {
        "id": "2ibaJiT4Tndg"
      },
      "source": [
        "movedata.head()\n",
        "movedata.info()\n",
        "movedata.describe()\n",
        "movedata['skuGroupId'].nunique()"
      ],
      "execution_count": null,
      "outputs": []
    },
    {
      "cell_type": "markdown",
      "metadata": {
        "id": "DajrqxjvVTtE"
      },
      "source": [
        "## 1.3 Identify missing values"
      ]
    },
    {
      "cell_type": "code",
      "metadata": {
        "id": "aBp8DdACTpr2"
      },
      "source": [
        "novalue = movedata[movedata['skuGroupId'] == ' '].shape[0] # Number of rows where skuGroupId is ' '\n",
        "navalue = movedata['skuGroupId'].isna().sum() # Number of rows where skuGroupId is na\n",
        "(novalue + navalue)/ movedata.shape[0]"
      ],
      "execution_count": null,
      "outputs": []
    },
    {
      "cell_type": "markdown",
      "metadata": {
        "id": "BtjYEupaVsjM"
      },
      "source": [
        "## 1.4 Data preprocessing\n",
        "* Rename column names\n",
        "* Remain date time only date\n",
        "* Delete missing values"
      ]
    },
    {
      "cell_type": "code",
      "metadata": {
        "id": "zivQRc99VrrH"
      },
      "source": [
        "movedata_copy = movedata.copy() # copy original dataset\n",
        "movedata_copy.columns = movedata_copy.columns.str.capitalize() # capitalize the column names\n",
        "movedata_copy[\"Day\"]=pd.to_datetime(movedata_copy[\"Date\"]).dt.date # add a new colume which just shows the Y-M-D\n",
        "movedata_copy = movedata_copy[movedata_copy['Skugroupid'].notna()] # drop the rows where there are missing values of Skugroupid\n",
        "movedata_copy = movedata_copy[movedata_copy['Skugroupid'] != ' ']  # drop the rows where there are no values of Skugroupid"
      ],
      "execution_count": null,
      "outputs": []
    },
    {
      "cell_type": "code",
      "metadata": {
        "id": "AqILxoqEWV-U"
      },
      "source": [
        "movedata_copy.shape[0] # number of rows in new dataset\n",
        "movedata_copy['Skugroupid'].nunique() # number of sku groups in new dataset"
      ],
      "execution_count": null,
      "outputs": []
    },
    {
      "cell_type": "markdown",
      "metadata": {
        "id": "LtTyNQ8rWOTz"
      },
      "source": [
        "## 1.5 Generate dataset only with the columns of 'Skugroupid' 'Day' and 'Pick volume' by counting 'Pickid'"
      ]
    },
    {
      "cell_type": "code",
      "metadata": {
        "id": "Pxn_IX4oW97c"
      },
      "source": [
        "groupdata = movedata_copy.groupby([\"Skugroupid\", \"Day\"])[\"Pickid\"].count().reset_index()"
      ],
      "execution_count": null,
      "outputs": []
    },
    {
      "cell_type": "code",
      "metadata": {
        "id": "hz1rGuypXf7b"
      },
      "source": [
        "# Have a first overview of 'groupdata'\n",
        "groupdata.head()\n",
        "groupdata.tail()\n",
        "groupdata.info()\n",
        "groupdata.describe()"
      ],
      "execution_count": null,
      "outputs": []
    },
    {
      "cell_type": "markdown",
      "metadata": {
        "id": "-faE8QmlXm2H"
      },
      "source": [
        "## 1.6 Identify Skugroupid where there are only several rows"
      ]
    },
    {
      "cell_type": "code",
      "metadata": {
        "id": "MEDsT4ovX_40"
      },
      "source": [
        "groupname = groupdata['Skugroupid'].unique() # list of group name\n",
        "print('group12:\\n\\n{}\\n'.format(groupdata[groupdata['Skugroupid'] == groupname[12]]))\n",
        "print('group13:\\n\\n{}'.format(groupdata[groupdata['Skugroupid'] == groupname[13]]))"
      ],
      "execution_count": null,
      "outputs": []
    },
    {
      "cell_type": "markdown",
      "metadata": {
        "id": "rVUrWGgSYHwf"
      },
      "source": [
        "## 1.7 Delete 'Skugroupid' where there are only several rows"
      ]
    },
    {
      "cell_type": "code",
      "metadata": {
        "id": "hHD2VLUVXZ3m"
      },
      "source": [
        "group_data = groupdata.copy()\n",
        "for i in range(len(groupname)):\n",
        "    if group_data[group_data['Skugroupid'] == groupname[i]].shape[0] < 365:\n",
        "        group_data = group_data[group_data['Skugroupid'] !=groupname[i]]"
      ],
      "execution_count": null,
      "outputs": []
    },
    {
      "cell_type": "code",
      "metadata": {
        "id": "QThEugpdYedp"
      },
      "source": [
        "print(group_data.shape[0]) # check the rows of new dataset\n",
        "print('Number of groups in groupdata:\\n\\n{}\\n'.format(groupdata['Skugroupid'].nunique())) # check the number of sku groups in 'groupdata'\n",
        "print('Number of groups in group_data:\\n\\n{}\\n'.format(group_data['Skugroupid'].nunique())) # check the number of sku groups in 'group_data'\n",
        "print('Ratio:\\n\\n{}'.format((groupdata['Skugroupid'].nunique() - group_data['Skugroupid'].nunique()) / groupdata['Skugroupid'].nunique())) # print the ratio which are dropped"
      ],
      "execution_count": null,
      "outputs": []
    },
    {
      "cell_type": "markdown",
      "metadata": {
        "id": "t2uhidwCY456"
      },
      "source": [
        "## 1.8 Identify that the date of each 'Skugroupid' in 'group_data'  is not consistent"
      ]
    },
    {
      "cell_type": "code",
      "metadata": {
        "id": "pUjPSSvSZdmo"
      },
      "source": [
        "group_data.head()\n",
        "group_data.tail()"
      ],
      "execution_count": null,
      "outputs": []
    },
    {
      "cell_type": "markdown",
      "metadata": {
        "id": "J3LxqZFaZlLH"
      },
      "source": [
        "## 1.9 Impute the dataset and fill the 'Pick volume' of missing rows with zero"
      ]
    },
    {
      "cell_type": "code",
      "metadata": {
        "id": "RlEc7xj8ZDXm"
      },
      "source": [
        "group_data['Day'] = pd.to_datetime(group_data['Day'])\n",
        "group_data['Skugroupid'] = group_data['Skugroupid'].astype(int)\n",
        "\n",
        "# create a DataFrame with full_date in order to merge with groupdata\n",
        "full_date = pd.DataFrame({'Day': pd.date_range('2015-01-01','2019-12-31')})\n",
        "groupname = group_data['Skugroupid'].unique() # list of group name\n",
        "\n",
        "# create a DataFrame without any values\n",
        "new_groupdata = pd.DataFrame(columns=['Skugroupid', 'Day', 'Pick volume'])\n",
        "\n",
        "for i in range(len(groupname)):\n",
        "        # output merged data betw. groupdata with groupname i and full_date\n",
        "    merged_data = group_data[group_data['Skugroupid'] == groupname[i]].merge(full_date, on = 'Day', how = 'outer').sort_values('Day')\n",
        "        # impute the missing value with group no.\n",
        "    merged_data['Skugroupid'].fillna(groupname[i], inplace = True)\n",
        "        # impute the missing value for pick volume with 0\n",
        "    merged_data['Pick volume'].fillna(0, inplace = True)\n",
        "        # append the mergedata into the new_groupdata step by step\n",
        "    new_groupdata = new_groupdata.append(merged_data, ignore_index=True)\n",
        "\n",
        "print(new_groupdata)"
      ],
      "execution_count": null,
      "outputs": []
    },
    {
      "cell_type": "markdown",
      "metadata": {
        "id": "WQcla3k-aGdj"
      },
      "source": [
        "## 1.10 First glance at the final dataset 'new_groupdata'"
      ]
    },
    {
      "cell_type": "code",
      "metadata": {
        "id": "l1EWb_VmaPiJ"
      },
      "source": [
        "new_groupdata.head() # first five rows\n",
        "new_groupdata.tail() # last five rows\n",
        "new_groupdata.info() # data type and shape of each column\n",
        "new_groupdata.describe() # basic statistical characteristics of each column\n",
        "new_groupdata['Skugroupid'].nunique() # number of sku groups\n",
        "new_groupdata.shape # number of rows and columns"
      ],
      "execution_count": null,
      "outputs": []
    },
    {
      "cell_type": "markdown",
      "metadata": {
        "id": "FCXxWA0NUSv3"
      },
      "source": [
        "## 1.11 Export dataset"
      ]
    },
    {
      "cell_type": "code",
      "metadata": {
        "id": "Bdx2IUeeUVDU"
      },
      "source": [
        "new_groupdata.to_csv('new_groupdata', index = False)"
      ],
      "execution_count": null,
      "outputs": []
    },
    {
      "cell_type": "markdown",
      "metadata": {
        "id": "4n8BbjOJZ_2u"
      },
      "source": [
        "# 2. Exploratory data analysis"
      ]
    },
    {
      "cell_type": "markdown",
      "metadata": {
        "id": "t8Dj2ADpak8g"
      },
      "source": [
        "## 2.1 Basic statistical characteristics of the dataset"
      ]
    },
    {
      "cell_type": "code",
      "metadata": {
        "id": "v4DR40MnbTx-"
      },
      "source": [
        "new_groupdata['Pick volume'].mean() # mean\n",
        "new_groupdata['Pick volume'].std() # standard deviation\n",
        "new_groupdata['Pick volume'].median() # median\n",
        "new_groupdata['Pick volume'].sum() # sum\n",
        "new_groupdata['Pick volume'].max() # maximum\n",
        "new_groupdata['Pick volume'].min() # minimum\n",
        "new_groupdata[new_groupdata['Pick volume']==0]['Skugroupid'].count() / new_groupdata.shape[0] # the percentage of zero value"
      ],
      "execution_count": null,
      "outputs": []
    },
    {
      "cell_type": "markdown",
      "metadata": {
        "id": "cxEzk19MdE5m"
      },
      "source": [
        "## 2.2 Mean value of each sku group"
      ]
    },
    {
      "cell_type": "code",
      "metadata": {
        "id": "4AB9WpjNbUN9"
      },
      "source": [
        "mean_sku = new_groupdata.groupby('Skugroupid')['Pick volume'].mean().sort_values(ascending=False).reset_index()\n",
        "mean_sku.columns = ['Skugroupid', 'mean']\n",
        "mean_sku['Skugroupid'] = mean_sku['Skugroupid'].astype(str)"
      ],
      "execution_count": null,
      "outputs": []
    },
    {
      "cell_type": "markdown",
      "metadata": {
        "id": "y1AiIaNAdBH1"
      },
      "source": [
        "### Overview of the top 100 SKU groups with the highest average pick volumes"
      ]
    },
    {
      "cell_type": "code",
      "metadata": {
        "id": "4uSADCoFBOeS"
      },
      "source": [
        "plt.figure(figsize=(20,8))\n",
        "plt.bar(np.arange(1, 101), mean_sku['mean'][:100], width = 0.8)\n",
        "\n",
        "plt.xlabel('SKU groups', fontsize = 24)\n",
        "plt.ylabel('Mean of pick volumes', fontsize = 24)\n",
        "plt.title('Overview of the top 100 SKU groups with the highest average pick volumes', fontsize = 24)\n",
        "plt.tick_params(labelsize=24)\n",
        "\n",
        "plt.show()"
      ],
      "execution_count": null,
      "outputs": []
    },
    {
      "cell_type": "markdown",
      "metadata": {
        "id": "kMsyWbQbdPx7"
      },
      "source": [
        "## 2.4 Define different levels of mean value in dataset"
      ]
    },
    {
      "cell_type": "code",
      "metadata": {
        "id": "pIlshiQNc78h"
      },
      "source": [
        "def division(data, col): \n",
        "    \n",
        "    data.index = np.arange(data.shape[0])\n",
        "    \n",
        "    for j in range(data.shape[0]):\n",
        "    \n",
        "        if data.loc[j, col] < 10: \n",
        "            data.loc[j, 'division'] = '0-10'\n",
        "        elif data.loc[j, col] < 20: \n",
        "            data.loc[j, 'division'] = '10-20'\n",
        "        elif data.loc[j, col] < 40:\n",
        "            data.loc[j, 'division'] = '20-40'\n",
        "        elif data.loc[j, col] < 60: \n",
        "            data.loc[j, 'division'] = '40-60'        \n",
        "        elif data.loc[j, col] < 80: \n",
        "            data.loc[j, 'division'] = '60-80'        \n",
        "        elif data.loc[j, col] < 100: \n",
        "            data.loc[j, 'division'] = '80-100'        \n",
        "        else: \n",
        "            data.loc[j, 'division'] = 'over 100'        \n",
        "        \n",
        "    return data"
      ],
      "execution_count": null,
      "outputs": []
    },
    {
      "cell_type": "code",
      "metadata": {
        "id": "XHTJ6sJOdd5h"
      },
      "source": [
        "mean_sku['division'] = 0\n",
        "mean_sku = division(mean_sku, 'mean').sort_values(by = 'mean', ascending=True)"
      ],
      "execution_count": null,
      "outputs": []
    },
    {
      "cell_type": "code",
      "metadata": {
        "id": "BALbI5Imdd-u"
      },
      "source": [
        "division = mean_sku.groupby('division')['Skugroupid'].count().reset_index()"
      ],
      "execution_count": null,
      "outputs": []
    },
    {
      "cell_type": "code",
      "metadata": {
        "id": "kBL8s_eUo6cB"
      },
      "source": [
        "division.columns = ['division', 'Number of Skugroups']\n",
        "division['Proportions'] = division['Number of Skugroups'] / 465\n",
        "division"
      ],
      "execution_count": null,
      "outputs": []
    },
    {
      "cell_type": "code",
      "metadata": {
        "id": "IZ5xXSL3o-9n"
      },
      "source": [
        "plt.figure(figsize=(20,8))\n",
        "\n",
        "plt.bar(division['division'], division['Number of Skugroups'], width = 0.4, label = 'Number of SKU groups                                   ')\n",
        "#plt.plot(division['division'], division['Proportions'])\n",
        "plt.grid()\n",
        "plt.legend(loc = 1)\n",
        "plt.ylabel('Bar chart', fontsize = 14)\n",
        "plt.title('Distribution of average pick volumnes in different tiers', fontsize = 16)\n",
        "\n",
        "axes2 = plt.twinx()\n",
        "axes2.plot(division['division'], division['Proportions'], color='r', marker = '*', label='Proportions')\n",
        "axes2.set_ylabel('Line plot', fontsize = 14)\n",
        "axes2.legend( loc='upper right')\n",
        "\n",
        "plt.show()"
      ],
      "execution_count": null,
      "outputs": []
    },
    {
      "cell_type": "markdown",
      "metadata": {
        "id": "yZC3pH6UB86J"
      },
      "source": [
        "## 2.5 Examples of sku groups in different tiers"
      ]
    },
    {
      "cell_type": "code",
      "metadata": {
        "id": "75nznH56B9SW"
      },
      "source": [
        "list = [117050, 211060, 212020, 113010, 421010, 232010]\n",
        "\n",
        "for i in range(6):\n",
        "    globals()[\"ts\" + str(i+1)] = new_groupdata[new_groupdata['Skugroupid'] == list[i]]\n",
        "    globals()[\"ts\" + str(i+1)]['Day'] = pd.to_datetime(globals()[\"ts\" + str(i+1)]['Day'])"
      ],
      "execution_count": null,
      "outputs": []
    },
    {
      "cell_type": "code",
      "metadata": {
        "id": "hK_yNoY0CEuH"
      },
      "source": [
        "fig, ((ax1, ax2), (ax3, ax4), (ax5, ax6))  = plt.subplots(3, 2, figsize=(30, 15))\n",
        "\n",
        "ax1.plot(ts1['Day'], ts1['Pick volume'], color='dimgray', marker='.', linestyle='-', linewidth=0.5)\n",
        "ax1.set_title('Example of SKU group: Average pick volumes - [0, 20] ', fontsize = 15)\n",
        "ax2.plot(ts1['Day'], ts2['Pick volume'], color='dimgray', marker='.', linestyle='-', linewidth=0.5)\n",
        "ax2.set_title('Example of SKU group: Average pick volumes - [20, 40]', fontsize = 15)\n",
        "ax3.plot(ts1['Day'], ts3['Pick volume'], color='dimgray', marker='.', linestyle='-', linewidth=0.5)\n",
        "ax3.set_title('Example of SKU group: Average pick volumes - [40, 60]', fontsize = 15)\n",
        "ax4.plot(ts1['Day'], ts4['Pick volume'], color='dimgray', marker='.', linestyle='-', linewidth=0.5)\n",
        "ax4.set_title('Example of SKU group: Average pick volumes - [60, 80]', fontsize = 15)\n",
        "ax5.plot(ts1['Day'], ts5['Pick volume'], color='dimgray', marker='.', linestyle='-', linewidth=0.5)\n",
        "ax5.set_title('Example of SKU group: Average pick volumes - [80, 100]', fontsize = 15)\n",
        "ax6.plot(ts1['Day'], ts6['Pick volume'], color='dimgray', marker='.', linestyle='-', linewidth=0.5)\n",
        "ax6.set_title('Example of SKU group: Average pick volumes - [>= 100]', fontsize = 15)\n",
        "  \n",
        "plt.show()"
      ],
      "execution_count": null,
      "outputs": []
    },
    {
      "cell_type": "markdown",
      "metadata": {
        "id": "PH2l9tGUEoH0"
      },
      "source": [
        "## 2.6 Distribution of average pick volumes in year, month, week, day and weekday"
      ]
    },
    {
      "cell_type": "code",
      "metadata": {
        "id": "IvQVmhl_FDiP"
      },
      "source": [
        "def date_features(data): \n",
        "    \n",
        "    data['Day'] = pd.to_datetime(data['Day'])\n",
        "    \n",
        "    data['Date_Day'] = data['Day'].dt.day\n",
        "    data['Date_weekday'] = data['Day'].dt.weekday\n",
        "    data['Date_week'] = data['Day'].dt.isocalendar().week.astype('int64')\n",
        "    data['Date_month'] = data['Day'].dt.month\n",
        "    data['Date_year'] = data['Day'].dt.year    \n",
        "    \n",
        "    return data"
      ],
      "execution_count": null,
      "outputs": []
    },
    {
      "cell_type": "code",
      "metadata": {
        "id": "IhbuWOQ4CHOt"
      },
      "source": [
        "new_dt = new_groupdata.copy()\n",
        "new_dt = date_features(new_dt)"
      ],
      "execution_count": null,
      "outputs": []
    },
    {
      "cell_type": "markdown",
      "metadata": {
        "id": "GqM3EG9CFJIM"
      },
      "source": [
        "### 2.6.1 Distribution of average pick volumes in year"
      ]
    },
    {
      "cell_type": "code",
      "metadata": {
        "id": "gXwa_PaNEvup"
      },
      "source": [
        "year_dis = new_dt.groupby(['Skugroupid','Date_year'])['Pick volume'].mean().reset_index()"
      ],
      "execution_count": null,
      "outputs": []
    },
    {
      "cell_type": "code",
      "metadata": {
        "id": "ZLKlRNDaEx8-"
      },
      "source": [
        "plt.figure(figsize=(20,8))\n",
        "all_year = [year_dis[year_dis['Date_year'] == 2015]['Pick volume'], year_dis[year_dis['Date_year'] == 2016]['Pick volume'], year_dis[year_dis['Date_year'] == 2017]['Pick volume'],\n",
        "           year_dis[year_dis['Date_year'] == 2018]['Pick volume'],year_dis[year_dis['Date_year'] == 2019]['Pick volume']]\n",
        "\n",
        "box = plt.boxplot(all_year, showmeans=True, showfliers=False, patch_artist=True, boxprops={'facecolor': 'lightblue'})\n",
        "\n",
        "plt.xlabel('Year', fontsize = 14)\n",
        "plt.ylabel('Mean of Pick volumes', fontsize = 14)\n",
        "plt.title('Distribution of mean of pick volumes in year from 2015 to 2019', fontsize = 16)\n",
        "    \n",
        "plt.show()"
      ],
      "execution_count": null,
      "outputs": []
    },
    {
      "cell_type": "markdown",
      "metadata": {
        "id": "csDrIgTRFNSE"
      },
      "source": [
        "### 2.6.2 Distribution of average pick volumes in month"
      ]
    },
    {
      "cell_type": "code",
      "metadata": {
        "id": "QeHw0O_ZE0nP"
      },
      "source": [
        "month_dis = new_dt.groupby(['Skugroupid','Date_month'])['Pick volume'].mean().reset_index()\n",
        "all_month = []\n",
        "for i in range(1,13):\n",
        "    globals()[\"m\" + str(i)] = month_dis[month_dis['Date_month'] == i]['Pick volume']\n",
        "    all_month.append(globals()[\"m\" + str(i)])"
      ],
      "execution_count": null,
      "outputs": []
    },
    {
      "cell_type": "code",
      "metadata": {
        "id": "PKqW9h7fF3uf"
      },
      "source": [
        "plt.figure(figsize=(20,8))\n",
        "plt.boxplot(all_month, showfliers = False, showmeans=True, patch_artist=True, boxprops={'facecolor': 'lightblue'})  # fill with color\n",
        "plt.xlabel('Month', fontsize = 24)\n",
        "plt.ylabel('Mean of Pick volumes', fontsize = 24)\n",
        "plt.tick_params(labelsize = 22)\n",
        "plt.title('Distribution of mean of pick volumes in month', fontsize = 24)\n",
        "plt.show()"
      ],
      "execution_count": null,
      "outputs": []
    },
    {
      "cell_type": "markdown",
      "metadata": {
        "id": "7Is3E9O0F6b2"
      },
      "source": [
        "### 2.6.3 Distribution of average pick volumes in week"
      ]
    },
    {
      "cell_type": "code",
      "metadata": {
        "id": "8k4kaJ1xF9jA"
      },
      "source": [
        "week_dis = new_dt.groupby(['Skugroupid','Date_week'])['Pick volume'].mean().reset_index()\n",
        "all_week = []\n",
        "for i in range(1,53):\n",
        "    globals()[\"w\" + str(i)] = month_dis[week_dis['Date_week'] == i]['Pick volume']\n",
        "    all_week.append(globals()[\"w\" + str(i)])"
      ],
      "execution_count": null,
      "outputs": []
    },
    {
      "cell_type": "code",
      "metadata": {
        "id": "QpRiIj8nGFbZ"
      },
      "source": [
        "plt.figure(figsize=(20,8))\n",
        "plt.boxplot(all_week, showfliers = False, showmeans=True, patch_artist=True, boxprops={'facecolor': 'lightblue'})  # fill with color\n",
        "plt.xlabel('Week', fontsize = 14)\n",
        "plt.ylabel('Mean of Pick volumes', fontsize = 14)\n",
        "plt.title('Distribution of mean of pick volumes in week', fontsize = 16)\n",
        "plt.show()"
      ],
      "execution_count": null,
      "outputs": []
    },
    {
      "cell_type": "markdown",
      "metadata": {
        "id": "Idqi9t8oGoK2"
      },
      "source": [
        "### 2.6.4 Distribution of average pick volumes in day"
      ]
    },
    {
      "cell_type": "code",
      "metadata": {
        "id": "sKHxHH-UGtxQ"
      },
      "source": [
        "day_dis = new_dt.groupby(['Skugroupid','Date_Day'])['Pick volume'].mean().reset_index()\n",
        "all_day = []\n",
        "for i in range(1,32):\n",
        "    globals()[\"d\" + str(i)] = day_dis[day_dis['Date_Day'] == i]['Pick volume']\n",
        "    all_day.append(globals()[\"d\" + str(i)])"
      ],
      "execution_count": null,
      "outputs": []
    },
    {
      "cell_type": "code",
      "metadata": {
        "id": "910Br1jlGwSY"
      },
      "source": [
        "plt.figure(figsize=(20,8))\n",
        "\n",
        "plt.boxplot(all_day, showfliers = False, showmeans=True, patch_artist=True, boxprops={'facecolor': 'lightblue'})  # fill with color\n",
        "plt.xlabel('Day of month', fontsize = 24)\n",
        "plt.ylabel('Mean of Pick volumes', fontsize = 24)\n",
        "plt.title('Distribution of mean of pick volumes in day', fontsize = 24)\n",
        "plt.tick_params(labelsize = 16)\n",
        "\n",
        "plt.show()"
      ],
      "execution_count": null,
      "outputs": []
    },
    {
      "cell_type": "markdown",
      "metadata": {
        "id": "wigOBef4HEaN"
      },
      "source": [
        "### 2.6.4 Distribution of average pick volumes in weekday"
      ]
    },
    {
      "cell_type": "code",
      "metadata": {
        "id": "ETPcqhRJG0-_"
      },
      "source": [
        "wd_dis = new_dt.groupby(['Skugroupid','Date_weekday'])['Pick volume'].mean().reset_index()"
      ],
      "execution_count": null,
      "outputs": []
    },
    {
      "cell_type": "code",
      "metadata": {
        "id": "5nD8XafuHIR7"
      },
      "source": [
        "all_wd = []\n",
        "for i in range(1,7):\n",
        "    globals()[\"d\" + str(i)] = wd_dis[wd_dis['Date_weekday'] == i]['Pick volume']\n",
        "    all_wd.append(globals()[\"d\" + str(i)])"
      ],
      "execution_count": null,
      "outputs": []
    },
    {
      "cell_type": "code",
      "metadata": {
        "id": "IEnbN337HKBr"
      },
      "source": [
        "plt.figure(figsize=(20,8))\n",
        "\n",
        "plt.boxplot(all_wd, showfliers = False, showmeans=True, patch_artist=True, boxprops={'facecolor': 'lightblue'})  # fill with color\n",
        "plt.xlabel('Weekday', fontsize = 14)\n",
        "plt.ylabel('Mean of Pick volumes', fontsize = 14)\n",
        "plt.title('Distribution of mean of pick volumes in weekday', fontsize = 16)\n",
        "\n",
        "plt.show()"
      ],
      "execution_count": null,
      "outputs": []
    }
  ]
}